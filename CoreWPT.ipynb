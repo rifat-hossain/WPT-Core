{
 "cells": [
  {
   "cell_type": "code",
   "execution_count": 1,
   "id": "e902494c",
   "metadata": {},
   "outputs": [
    {
     "name": "stdout",
     "output_type": "stream",
     "text": [
      "Requirement already satisfied: numpy in g:\\proj\\python_env\\wpt_core\\lib\\site-packages (1.24.2)\n"
     ]
    },
    {
     "name": "stderr",
     "output_type": "stream",
     "text": [
      "\n",
      "[notice] A new release of pip available: 22.2.2 -> 23.0\n",
      "[notice] To update, run: python.exe -m pip install --upgrade pip\n"
     ]
    },
    {
     "name": "stdout",
     "output_type": "stream",
     "text": [
      "Requirement already satisfied: vpython in g:\\proj\\python_env\\wpt_core\\lib\\site-packages (7.6.4)\n",
      "Requirement already satisfied: jupyter in g:\\proj\\python_env\\wpt_core\\lib\\site-packages (from vpython) (1.0.0)\n",
      "Requirement already satisfied: numpy in g:\\proj\\python_env\\wpt_core\\lib\\site-packages (from vpython) (1.24.2)\n",
      "Requirement already satisfied: jupyter-server-proxy in g:\\proj\\python_env\\wpt_core\\lib\\site-packages (from vpython) (3.2.2)\n",
      "Requirement already satisfied: ipykernel in g:\\proj\\python_env\\wpt_core\\lib\\site-packages (from vpython) (6.21.1)\n",
      "Requirement already satisfied: autobahn<27,>=22.6.1 in g:\\proj\\python_env\\wpt_core\\lib\\site-packages (from vpython) (23.1.2)\n",
      "Requirement already satisfied: txaio>=21.2.1 in g:\\proj\\python_env\\wpt_core\\lib\\site-packages (from autobahn<27,>=22.6.1->vpython) (23.1.1)\n",
      "Requirement already satisfied: cryptography>=3.4.6 in g:\\proj\\python_env\\wpt_core\\lib\\site-packages (from autobahn<27,>=22.6.1->vpython) (39.0.1)\n",
      "Requirement already satisfied: hyperlink>=21.0.0 in g:\\proj\\python_env\\wpt_core\\lib\\site-packages (from autobahn<27,>=22.6.1->vpython) (21.0.0)\n",
      "Requirement already satisfied: setuptools in g:\\proj\\python_env\\wpt_core\\lib\\site-packages (from autobahn<27,>=22.6.1->vpython) (63.2.0)\n",
      "Requirement already satisfied: jupyter-core!=5.0.*,>=4.12 in g:\\proj\\python_env\\wpt_core\\lib\\site-packages (from ipykernel->vpython) (5.2.0)\n",
      "Requirement already satisfied: nest-asyncio in g:\\proj\\python_env\\wpt_core\\lib\\site-packages (from ipykernel->vpython) (1.5.6)\n",
      "Requirement already satisfied: packaging in g:\\proj\\python_env\\wpt_core\\lib\\site-packages (from ipykernel->vpython) (23.0)\n",
      "Requirement already satisfied: pyzmq>=17 in g:\\proj\\python_env\\wpt_core\\lib\\site-packages (from ipykernel->vpython) (25.0.0)\n",
      "Requirement already satisfied: psutil in g:\\proj\\python_env\\wpt_core\\lib\\site-packages (from ipykernel->vpython) (5.9.4)\n",
      "Requirement already satisfied: tornado>=6.1 in g:\\proj\\python_env\\wpt_core\\lib\\site-packages (from ipykernel->vpython) (6.2)\n",
      "Requirement already satisfied: debugpy>=1.6.5 in g:\\proj\\python_env\\wpt_core\\lib\\site-packages (from ipykernel->vpython) (1.6.6)\n",
      "Requirement already satisfied: jupyter-client>=6.1.12 in g:\\proj\\python_env\\wpt_core\\lib\\site-packages (from ipykernel->vpython) (8.0.2)\n",
      "Requirement already satisfied: matplotlib-inline>=0.1 in g:\\proj\\python_env\\wpt_core\\lib\\site-packages (from ipykernel->vpython) (0.1.6)\n",
      "Requirement already satisfied: traitlets>=5.4.0 in g:\\proj\\python_env\\wpt_core\\lib\\site-packages (from ipykernel->vpython) (5.9.0)\n",
      "Requirement already satisfied: comm>=0.1.1 in g:\\proj\\python_env\\wpt_core\\lib\\site-packages (from ipykernel->vpython) (0.1.2)\n",
      "Requirement already satisfied: ipython>=7.23.1 in g:\\proj\\python_env\\wpt_core\\lib\\site-packages (from ipykernel->vpython) (8.10.0)\n",
      "Requirement already satisfied: jupyter-console in g:\\proj\\python_env\\wpt_core\\lib\\site-packages (from jupyter->vpython) (6.5.0)\n",
      "Requirement already satisfied: nbconvert in g:\\proj\\python_env\\wpt_core\\lib\\site-packages (from jupyter->vpython) (7.2.9)\n",
      "Requirement already satisfied: notebook in g:\\proj\\python_env\\wpt_core\\lib\\site-packages (from jupyter->vpython) (6.5.2)\n",
      "Requirement already satisfied: qtconsole in g:\\proj\\python_env\\wpt_core\\lib\\site-packages (from jupyter->vpython) (5.4.0)\n",
      "Requirement already satisfied: ipywidgets in g:\\proj\\python_env\\wpt_core\\lib\\site-packages (from jupyter->vpython) (8.0.4)\n",
      "Requirement already satisfied: jupyter-server>=1.0 in g:\\proj\\python_env\\wpt_core\\lib\\site-packages (from jupyter-server-proxy->vpython) (2.2.1)\n",
      "Requirement already satisfied: simpervisor>=0.4 in g:\\proj\\python_env\\wpt_core\\lib\\site-packages (from jupyter-server-proxy->vpython) (0.4)\n",
      "Requirement already satisfied: aiohttp in g:\\proj\\python_env\\wpt_core\\lib\\site-packages (from jupyter-server-proxy->vpython) (3.8.3)\n",
      "Requirement already satisfied: cffi>=1.12 in g:\\proj\\python_env\\wpt_core\\lib\\site-packages (from cryptography>=3.4.6->autobahn<27,>=22.6.1->vpython) (1.15.1)\n",
      "Requirement already satisfied: idna>=2.5 in g:\\proj\\python_env\\wpt_core\\lib\\site-packages (from hyperlink>=21.0.0->autobahn<27,>=22.6.1->vpython) (3.4)\n",
      "Requirement already satisfied: decorator in g:\\proj\\python_env\\wpt_core\\lib\\site-packages (from ipython>=7.23.1->ipykernel->vpython) (5.1.1)\n",
      "Requirement already satisfied: prompt-toolkit<3.1.0,>=3.0.30 in g:\\proj\\python_env\\wpt_core\\lib\\site-packages (from ipython>=7.23.1->ipykernel->vpython) (3.0.36)\n",
      "Requirement already satisfied: jedi>=0.16 in g:\\proj\\python_env\\wpt_core\\lib\\site-packages (from ipython>=7.23.1->ipykernel->vpython) (0.18.2)\n",
      "Requirement already satisfied: backcall in g:\\proj\\python_env\\wpt_core\\lib\\site-packages (from ipython>=7.23.1->ipykernel->vpython) (0.2.0)\n",
      "Requirement already satisfied: colorama in g:\\proj\\python_env\\wpt_core\\lib\\site-packages (from ipython>=7.23.1->ipykernel->vpython) (0.4.6)\n",
      "Requirement already satisfied: pygments>=2.4.0 in g:\\proj\\python_env\\wpt_core\\lib\\site-packages (from ipython>=7.23.1->ipykernel->vpython) (2.14.0)\n",
      "Requirement already satisfied: pickleshare in g:\\proj\\python_env\\wpt_core\\lib\\site-packages (from ipython>=7.23.1->ipykernel->vpython) (0.7.5)\n",
      "Requirement already satisfied: stack-data in g:\\proj\\python_env\\wpt_core\\lib\\site-packages (from ipython>=7.23.1->ipykernel->vpython) (0.6.2)\n",
      "Requirement already satisfied: python-dateutil>=2.8.2 in g:\\proj\\python_env\\wpt_core\\lib\\site-packages (from jupyter-client>=6.1.12->ipykernel->vpython) (2.8.2)\n",
      "Requirement already satisfied: pywin32>=1.0 in g:\\proj\\python_env\\wpt_core\\lib\\site-packages (from jupyter-core!=5.0.*,>=4.12->ipykernel->vpython) (305)\n",
      "Requirement already satisfied: platformdirs>=2.5 in g:\\proj\\python_env\\wpt_core\\lib\\site-packages (from jupyter-core!=5.0.*,>=4.12->ipykernel->vpython) (3.0.0)\n",
      "Requirement already satisfied: send2trash in g:\\proj\\python_env\\wpt_core\\lib\\site-packages (from jupyter-server>=1.0->jupyter-server-proxy->vpython) (1.8.0)\n",
      "Requirement already satisfied: jupyter-server-terminals in g:\\proj\\python_env\\wpt_core\\lib\\site-packages (from jupyter-server>=1.0->jupyter-server-proxy->vpython) (0.4.4)\n",
      "Requirement already satisfied: pywinpty in g:\\proj\\python_env\\wpt_core\\lib\\site-packages (from jupyter-server>=1.0->jupyter-server-proxy->vpython) (2.0.10)\n",
      "Requirement already satisfied: nbformat>=5.3.0 in g:\\proj\\python_env\\wpt_core\\lib\\site-packages (from jupyter-server>=1.0->jupyter-server-proxy->vpython) (5.7.3)\n",
      "Requirement already satisfied: terminado>=0.8.3 in g:\\proj\\python_env\\wpt_core\\lib\\site-packages (from jupyter-server>=1.0->jupyter-server-proxy->vpython) (0.17.1)\n",
      "Requirement already satisfied: websocket-client in g:\\proj\\python_env\\wpt_core\\lib\\site-packages (from jupyter-server>=1.0->jupyter-server-proxy->vpython) (1.5.1)\n",
      "Requirement already satisfied: anyio>=3.1.0 in g:\\proj\\python_env\\wpt_core\\lib\\site-packages (from jupyter-server>=1.0->jupyter-server-proxy->vpython) (3.6.2)\n",
      "Requirement already satisfied: argon2-cffi in g:\\proj\\python_env\\wpt_core\\lib\\site-packages (from jupyter-server>=1.0->jupyter-server-proxy->vpython) (21.3.0)\n",
      "Requirement already satisfied: prometheus-client in g:\\proj\\python_env\\wpt_core\\lib\\site-packages (from jupyter-server>=1.0->jupyter-server-proxy->vpython) (0.16.0)\n",
      "Requirement already satisfied: jupyter-events>=0.4.0 in g:\\proj\\python_env\\wpt_core\\lib\\site-packages (from jupyter-server>=1.0->jupyter-server-proxy->vpython) (0.6.3)\n",
      "Requirement already satisfied: jinja2 in g:\\proj\\python_env\\wpt_core\\lib\\site-packages (from jupyter-server>=1.0->jupyter-server-proxy->vpython) (3.1.2)\n",
      "Requirement already satisfied: jupyterlab-pygments in g:\\proj\\python_env\\wpt_core\\lib\\site-packages (from nbconvert->jupyter->vpython) (0.2.2)\n",
      "Requirement already satisfied: mistune<3,>=2.0.3 in g:\\proj\\python_env\\wpt_core\\lib\\site-packages (from nbconvert->jupyter->vpython) (2.0.5)\n",
      "Requirement already satisfied: pandocfilters>=1.4.1 in g:\\proj\\python_env\\wpt_core\\lib\\site-packages (from nbconvert->jupyter->vpython) (1.5.0)\n",
      "Requirement already satisfied: defusedxml in g:\\proj\\python_env\\wpt_core\\lib\\site-packages (from nbconvert->jupyter->vpython) (0.7.1)\n",
      "Requirement already satisfied: beautifulsoup4 in g:\\proj\\python_env\\wpt_core\\lib\\site-packages (from nbconvert->jupyter->vpython) (4.11.2)\n",
      "Requirement already satisfied: bleach in g:\\proj\\python_env\\wpt_core\\lib\\site-packages (from nbconvert->jupyter->vpython) (6.0.0)\n",
      "Requirement already satisfied: markupsafe>=2.0 in g:\\proj\\python_env\\wpt_core\\lib\\site-packages (from nbconvert->jupyter->vpython) (2.1.2)\n",
      "Requirement already satisfied: nbclient>=0.5.0 in g:\\proj\\python_env\\wpt_core\\lib\\site-packages (from nbconvert->jupyter->vpython) (0.7.2)\n",
      "Requirement already satisfied: tinycss2 in g:\\proj\\python_env\\wpt_core\\lib\\site-packages (from nbconvert->jupyter->vpython) (1.2.1)\n",
      "Requirement already satisfied: charset-normalizer<3.0,>=2.0 in g:\\proj\\python_env\\wpt_core\\lib\\site-packages (from aiohttp->jupyter-server-proxy->vpython) (2.1.1)\n",
      "Requirement already satisfied: yarl<2.0,>=1.0 in g:\\proj\\python_env\\wpt_core\\lib\\site-packages (from aiohttp->jupyter-server-proxy->vpython) (1.8.2)\n",
      "Requirement already satisfied: multidict<7.0,>=4.5 in g:\\proj\\python_env\\wpt_core\\lib\\site-packages (from aiohttp->jupyter-server-proxy->vpython) (6.0.4)\n",
      "Requirement already satisfied: aiosignal>=1.1.2 in g:\\proj\\python_env\\wpt_core\\lib\\site-packages (from aiohttp->jupyter-server-proxy->vpython) (1.3.1)\n",
      "Requirement already satisfied: frozenlist>=1.1.1 in g:\\proj\\python_env\\wpt_core\\lib\\site-packages (from aiohttp->jupyter-server-proxy->vpython) (1.3.3)\n",
      "Requirement already satisfied: async-timeout<5.0,>=4.0.0a3 in g:\\proj\\python_env\\wpt_core\\lib\\site-packages (from aiohttp->jupyter-server-proxy->vpython) (4.0.2)\n",
      "Requirement already satisfied: attrs>=17.3.0 in g:\\proj\\python_env\\wpt_core\\lib\\site-packages (from aiohttp->jupyter-server-proxy->vpython) (22.2.0)\n",
      "Requirement already satisfied: widgetsnbextension~=4.0 in g:\\proj\\python_env\\wpt_core\\lib\\site-packages (from ipywidgets->jupyter->vpython) (4.0.5)\n",
      "Requirement already satisfied: jupyterlab-widgets~=3.0 in g:\\proj\\python_env\\wpt_core\\lib\\site-packages (from ipywidgets->jupyter->vpython) (3.0.5)\n",
      "Requirement already satisfied: nbclassic>=0.4.7 in g:\\proj\\python_env\\wpt_core\\lib\\site-packages (from notebook->jupyter->vpython) (0.5.1)\n",
      "Requirement already satisfied: ipython-genutils in g:\\proj\\python_env\\wpt_core\\lib\\site-packages (from notebook->jupyter->vpython) (0.2.0)\n",
      "Requirement already satisfied: qtpy>=2.0.1 in g:\\proj\\python_env\\wpt_core\\lib\\site-packages (from qtconsole->jupyter->vpython) (2.3.0)\n",
      "Requirement already satisfied: sniffio>=1.1 in g:\\proj\\python_env\\wpt_core\\lib\\site-packages (from anyio>=3.1.0->jupyter-server>=1.0->jupyter-server-proxy->vpython) (1.3.0)\n",
      "Requirement already satisfied: pycparser in g:\\proj\\python_env\\wpt_core\\lib\\site-packages (from cffi>=1.12->cryptography>=3.4.6->autobahn<27,>=22.6.1->vpython) (2.21)\n",
      "Requirement already satisfied: parso<0.9.0,>=0.8.0 in g:\\proj\\python_env\\wpt_core\\lib\\site-packages (from jedi>=0.16->ipython>=7.23.1->ipykernel->vpython) (0.8.3)\n",
      "Requirement already satisfied: python-json-logger>=2.0.4 in g:\\proj\\python_env\\wpt_core\\lib\\site-packages (from jupyter-events>=0.4.0->jupyter-server>=1.0->jupyter-server-proxy->vpython) (2.0.4)\n",
      "Requirement already satisfied: rfc3339-validator in g:\\proj\\python_env\\wpt_core\\lib\\site-packages (from jupyter-events>=0.4.0->jupyter-server>=1.0->jupyter-server-proxy->vpython) (0.1.4)\n",
      "Requirement already satisfied: rfc3986-validator>=0.1.1 in g:\\proj\\python_env\\wpt_core\\lib\\site-packages (from jupyter-events>=0.4.0->jupyter-server>=1.0->jupyter-server-proxy->vpython) (0.1.1)\n",
      "Requirement already satisfied: pyyaml>=5.3 in g:\\proj\\python_env\\wpt_core\\lib\\site-packages (from jupyter-events>=0.4.0->jupyter-server>=1.0->jupyter-server-proxy->vpython) (6.0)\n",
      "Requirement already satisfied: jsonschema[format-nongpl]>=3.2.0 in g:\\proj\\python_env\\wpt_core\\lib\\site-packages (from jupyter-events>=0.4.0->jupyter-server>=1.0->jupyter-server-proxy->vpython) (4.17.3)\n",
      "Requirement already satisfied: notebook-shim>=0.1.0 in g:\\proj\\python_env\\wpt_core\\lib\\site-packages (from nbclassic>=0.4.7->notebook->jupyter->vpython) (0.2.2)\n",
      "Requirement already satisfied: fastjsonschema in g:\\proj\\python_env\\wpt_core\\lib\\site-packages (from nbformat>=5.3.0->jupyter-server>=1.0->jupyter-server-proxy->vpython) (2.16.2)\n",
      "Requirement already satisfied: wcwidth in g:\\proj\\python_env\\wpt_core\\lib\\site-packages (from prompt-toolkit<3.1.0,>=3.0.30->ipython>=7.23.1->ipykernel->vpython) (0.2.6)\n",
      "Requirement already satisfied: six>=1.5 in g:\\proj\\python_env\\wpt_core\\lib\\site-packages (from python-dateutil>=2.8.2->jupyter-client>=6.1.12->ipykernel->vpython) (1.16.0)\n",
      "Requirement already satisfied: argon2-cffi-bindings in g:\\proj\\python_env\\wpt_core\\lib\\site-packages (from argon2-cffi->jupyter-server>=1.0->jupyter-server-proxy->vpython) (21.2.0)\n",
      "Requirement already satisfied: soupsieve>1.2 in g:\\proj\\python_env\\wpt_core\\lib\\site-packages (from beautifulsoup4->nbconvert->jupyter->vpython) (2.3.2.post1)\n",
      "Requirement already satisfied: webencodings in g:\\proj\\python_env\\wpt_core\\lib\\site-packages (from bleach->nbconvert->jupyter->vpython) (0.5.1)\n",
      "Requirement already satisfied: asttokens>=2.1.0 in g:\\proj\\python_env\\wpt_core\\lib\\site-packages (from stack-data->ipython>=7.23.1->ipykernel->vpython) (2.2.1)\n",
      "Requirement already satisfied: executing>=1.2.0 in g:\\proj\\python_env\\wpt_core\\lib\\site-packages (from stack-data->ipython>=7.23.1->ipykernel->vpython) (1.2.0)\n",
      "Requirement already satisfied: pure-eval in g:\\proj\\python_env\\wpt_core\\lib\\site-packages (from stack-data->ipython>=7.23.1->ipykernel->vpython) (0.2.2)\n",
      "Requirement already satisfied: pyrsistent!=0.17.0,!=0.17.1,!=0.17.2,>=0.14.0 in g:\\proj\\python_env\\wpt_core\\lib\\site-packages (from jsonschema[format-nongpl]>=3.2.0->jupyter-events>=0.4.0->jupyter-server>=1.0->jupyter-server-proxy->vpython) (0.19.3)\n",
      "Requirement already satisfied: fqdn in g:\\proj\\python_env\\wpt_core\\lib\\site-packages (from jsonschema[format-nongpl]>=3.2.0->jupyter-events>=0.4.0->jupyter-server>=1.0->jupyter-server-proxy->vpython) (1.5.1)\n",
      "Requirement already satisfied: uri-template in g:\\proj\\python_env\\wpt_core\\lib\\site-packages (from jsonschema[format-nongpl]>=3.2.0->jupyter-events>=0.4.0->jupyter-server>=1.0->jupyter-server-proxy->vpython) (1.2.0)\n",
      "Requirement already satisfied: webcolors>=1.11 in g:\\proj\\python_env\\wpt_core\\lib\\site-packages (from jsonschema[format-nongpl]>=3.2.0->jupyter-events>=0.4.0->jupyter-server>=1.0->jupyter-server-proxy->vpython) (1.12)\n",
      "Requirement already satisfied: isoduration in g:\\proj\\python_env\\wpt_core\\lib\\site-packages (from jsonschema[format-nongpl]>=3.2.0->jupyter-events>=0.4.0->jupyter-server>=1.0->jupyter-server-proxy->vpython) (20.11.0)\n",
      "Requirement already satisfied: jsonpointer>1.13 in g:\\proj\\python_env\\wpt_core\\lib\\site-packages (from jsonschema[format-nongpl]>=3.2.0->jupyter-events>=0.4.0->jupyter-server>=1.0->jupyter-server-proxy->vpython) (2.3)\n",
      "Requirement already satisfied: arrow>=0.15.0 in g:\\proj\\python_env\\wpt_core\\lib\\site-packages (from isoduration->jsonschema[format-nongpl]>=3.2.0->jupyter-events>=0.4.0->jupyter-server>=1.0->jupyter-server-proxy->vpython) (1.2.3)\n"
     ]
    },
    {
     "name": "stderr",
     "output_type": "stream",
     "text": [
      "\n",
      "[notice] A new release of pip available: 22.2.2 -> 23.0\n",
      "[notice] To update, run: python.exe -m pip install --upgrade pip\n"
     ]
    }
   ],
   "source": [
    "!pip install numpy\n",
    "!pip install vpython"
   ]
  },
  {
   "cell_type": "code",
   "execution_count": 2,
   "id": "452596df",
   "metadata": {},
   "outputs": [
    {
     "data": {
      "text/html": [
       "<div id=\"glowscript\" class=\"glowscript\"></div>"
      ],
      "text/plain": [
       "<IPython.core.display.HTML object>"
      ]
     },
     "metadata": {},
     "output_type": "display_data"
    },
    {
     "data": {
      "application/javascript": [
       "if (typeof Jupyter !== \"undefined\") { window.__context = { glowscript_container: $(\"#glowscript\").removeAttr(\"id\")};}else{ element.textContent = ' ';}"
      ],
      "text/plain": [
       "<IPython.core.display.Javascript object>"
      ]
     },
     "metadata": {},
     "output_type": "display_data"
    }
   ],
   "source": [
    "import numpy as np\n",
    "import vpython as vp"
   ]
  },
  {
   "cell_type": "code",
   "execution_count": null,
   "id": "bbac2791",
   "metadata": {},
   "outputs": [
    {
     "name": "stdout",
     "output_type": "stream",
     "text": [
      "Core height, ch [ch > 0] (mm): 60\n"
     ]
    }
   ],
   "source": [
    "ch = float(input(\"Core height, ch [ch > 0] (mm): \"))\n",
    "cr = float(input(\"Core radius, cr [cr > 0] (mm): \"))\n",
    "hr = float(input(\"Holo radius, hr [0 ≤ hr < cr] (mm): \"))\n",
    "ft = float(input(\"Ferrite thickness, ft (mm): \"))\n",
    "it = float(input(\"Ferrite insulation thickness, it (mm): \"))"
   ]
  },
  {
   "cell_type": "code",
   "execution_count": null,
   "id": "3993bc91",
   "metadata": {},
   "outputs": [],
   "source": [
    "T = ft+it\n",
    "z = np.arange(0,cr,T)\n",
    "lc = np.sqrt(np.power(cr,2)-np.power(z,2))\n",
    "zh = np.arange(0,hr,T)\n",
    "lh = np.sqrt(np.power(hr,2)-np.power(zh,2))\n",
    "lh = np.append(lh, np.zeros(lc.size-lh.size))\n",
    "x = (lc+lh)/2\n",
    "l = lc-lh"
   ]
  },
  {
   "cell_type": "code",
   "execution_count": null,
   "id": "5f2e8c6a",
   "metadata": {},
   "outputs": [],
   "source": [
    "p = np.concatenate((x.reshape(-1,1),z.reshape(-1,1), l.reshape(-1,1)), axis=1)\n",
    "space = vp.canvas()\n",
    "for n in p:\n",
    "    vp.box(pos=vp.vector(n[0],0,n[1]),length=n[2], height=ch, width=ft, color=vp.color.purple, canvas=space)\n",
    "    vp.box(pos=vp.vector(n[0],0,-n[1]),length=n[2], height=ch, width=ft, color=vp.color.purple, canvas=space)\n",
    "    vp.box(pos=vp.vector(-n[0],0,n[1]),length=n[2], height=ch, width=ft, color=vp.color.purple, canvas=space)\n",
    "    vp.box(pos=vp.vector(-n[0],0,-n[1]),length=n[2], height=ch, width=ft, color=vp.color.purple, canvas=space)\n",
    "print(\"Scroll to zoom\\nRight click and drag to rotate\")"
   ]
  },
  {
   "cell_type": "code",
   "execution_count": null,
   "id": "26e8a04c",
   "metadata": {},
   "outputs": [],
   "source": [
    "area = 0.0\n",
    "for n in p:\n",
    "    area += n[2] * ch * 4\n",
    "print(\"Total area of the ferrite used: \" + str(area) + \" mm²\")"
   ]
  },
  {
   "cell_type": "code",
   "execution_count": null,
   "id": "87ecef95",
   "metadata": {},
   "outputs": [],
   "source": []
  }
 ],
 "metadata": {
  "kernelspec": {
   "display_name": "Python 3 (ipykernel)",
   "language": "python",
   "name": "python3"
  },
  "language_info": {
   "codemirror_mode": {
    "name": "ipython",
    "version": 3
   },
   "file_extension": ".py",
   "mimetype": "text/x-python",
   "name": "python",
   "nbconvert_exporter": "python",
   "pygments_lexer": "ipython3",
   "version": "3.10.7"
  }
 },
 "nbformat": 4,
 "nbformat_minor": 5
}
